{
 "cells": [
  {
   "cell_type": "code",
   "execution_count": 1,
   "id": "6b9b3eed-0e85-4173-afe6-a3622273b331",
   "metadata": {},
   "outputs": [],
   "source": [
    "import pandas as pd\n",
    "import numpy as np\n",
    "import matplotlib.pyplot as plt\n",
    "import seaborn as sns\n",
    "\n",
    "from sklearn.model_selection import train_test_split\n",
    "from sklearn.metrics import mean_squared_error, r2_score\n",
    "from sklearn.compose import ColumnTransformer\n",
    "from sklearn.pipeline import Pipeline, make_pipeline\n",
    "from sklearn.neighbors import KNeighborsRegressor\n",
    "from sklearn.preprocessing import OneHotEncoder, PowerTransformer, StandardScaler, MinMaxScaler\n",
    "from sklearn.tree import DecisionTreeRegressor\n",
    "from sklearn.ensemble import RandomForestRegressor, AdaBoostRegressor\n",
    "from sklearn.svm import SVR\n",
    "from sklearn.model_selection import train_test_split\n",
    "from sklearn.linear_model import LinearRegression, Ridge, Lasso\n",
    "from sklearn.metrics import r2_score, mean_absolute_error\n",
    "from sklearn.model_selection import train_test_split, RandomizedSearchCV, GridSearchCV\n",
    "import pickle\n"
   ]
  },
  {
   "cell_type": "markdown",
   "id": "2a1eb740-3fdc-4640-be28-2faf36e335b6",
   "metadata": {},
   "source": [
    "Import the CSV Data as Pandas DataFrame"
   ]
  },
  {
   "cell_type": "code",
   "execution_count": 2,
   "id": "240e1c01-7a50-4744-a226-88b01ca6809f",
   "metadata": {},
   "outputs": [],
   "source": [
    "df = pd.read_csv(\"data/cleaned.csv\")"
   ]
  },
  {
   "cell_type": "code",
   "execution_count": 3,
   "id": "cc3daf9c-4420-4175-9de9-c695953cef77",
   "metadata": {},
   "outputs": [
    {
     "data": {
      "text/html": [
       "<div>\n",
       "<style scoped>\n",
       "    .dataframe tbody tr th:only-of-type {\n",
       "        vertical-align: middle;\n",
       "    }\n",
       "\n",
       "    .dataframe tbody tr th {\n",
       "        vertical-align: top;\n",
       "    }\n",
       "\n",
       "    .dataframe thead th {\n",
       "        text-align: right;\n",
       "    }\n",
       "</style>\n",
       "<table border=\"1\" class=\"dataframe\">\n",
       "  <thead>\n",
       "    <tr style=\"text-align: right;\">\n",
       "      <th></th>\n",
       "      <th>gender</th>\n",
       "      <th>race/ethnicity</th>\n",
       "      <th>parental level of education</th>\n",
       "      <th>lunch</th>\n",
       "      <th>test preparation course</th>\n",
       "      <th>math score</th>\n",
       "      <th>reading score</th>\n",
       "      <th>writing score</th>\n",
       "      <th>total score</th>\n",
       "      <th>average</th>\n",
       "    </tr>\n",
       "  </thead>\n",
       "  <tbody>\n",
       "    <tr>\n",
       "      <th>0</th>\n",
       "      <td>female</td>\n",
       "      <td>group B</td>\n",
       "      <td>bachelor's degree</td>\n",
       "      <td>standard</td>\n",
       "      <td>none</td>\n",
       "      <td>72</td>\n",
       "      <td>72</td>\n",
       "      <td>74</td>\n",
       "      <td>218</td>\n",
       "      <td>72.666667</td>\n",
       "    </tr>\n",
       "    <tr>\n",
       "      <th>1</th>\n",
       "      <td>female</td>\n",
       "      <td>group C</td>\n",
       "      <td>some college</td>\n",
       "      <td>standard</td>\n",
       "      <td>completed</td>\n",
       "      <td>69</td>\n",
       "      <td>90</td>\n",
       "      <td>88</td>\n",
       "      <td>247</td>\n",
       "      <td>82.333333</td>\n",
       "    </tr>\n",
       "    <tr>\n",
       "      <th>2</th>\n",
       "      <td>female</td>\n",
       "      <td>group B</td>\n",
       "      <td>master's degree</td>\n",
       "      <td>standard</td>\n",
       "      <td>none</td>\n",
       "      <td>90</td>\n",
       "      <td>95</td>\n",
       "      <td>93</td>\n",
       "      <td>278</td>\n",
       "      <td>92.666667</td>\n",
       "    </tr>\n",
       "    <tr>\n",
       "      <th>3</th>\n",
       "      <td>male</td>\n",
       "      <td>group A</td>\n",
       "      <td>associate's degree</td>\n",
       "      <td>free/reduced</td>\n",
       "      <td>none</td>\n",
       "      <td>47</td>\n",
       "      <td>57</td>\n",
       "      <td>44</td>\n",
       "      <td>148</td>\n",
       "      <td>49.333333</td>\n",
       "    </tr>\n",
       "    <tr>\n",
       "      <th>4</th>\n",
       "      <td>male</td>\n",
       "      <td>group C</td>\n",
       "      <td>some college</td>\n",
       "      <td>standard</td>\n",
       "      <td>none</td>\n",
       "      <td>76</td>\n",
       "      <td>78</td>\n",
       "      <td>75</td>\n",
       "      <td>229</td>\n",
       "      <td>76.333333</td>\n",
       "    </tr>\n",
       "  </tbody>\n",
       "</table>\n",
       "</div>"
      ],
      "text/plain": [
       "   gender race/ethnicity parental level of education         lunch  \\\n",
       "0  female        group B           bachelor's degree      standard   \n",
       "1  female        group C                some college      standard   \n",
       "2  female        group B             master's degree      standard   \n",
       "3    male        group A          associate's degree  free/reduced   \n",
       "4    male        group C                some college      standard   \n",
       "\n",
       "  test preparation course  math score  reading score  writing score  \\\n",
       "0                    none          72             72             74   \n",
       "1               completed          69             90             88   \n",
       "2                    none          90             95             93   \n",
       "3                    none          47             57             44   \n",
       "4                    none          76             78             75   \n",
       "\n",
       "   total score    average  \n",
       "0          218  72.666667  \n",
       "1          247  82.333333  \n",
       "2          278  92.666667  \n",
       "3          148  49.333333  \n",
       "4          229  76.333333  "
      ]
     },
     "execution_count": 3,
     "metadata": {},
     "output_type": "execute_result"
    }
   ],
   "source": [
    "df.head()"
   ]
  },
  {
   "cell_type": "markdown",
   "id": "0c28ebb4-115d-4a0f-b191-092ab7d98ab8",
   "metadata": {},
   "source": [
    "droping total score columns, As was showing multicollinearity with average"
   ]
  },
  {
   "cell_type": "code",
   "execution_count": 4,
   "id": "46b4163a-12e4-4fd2-b474-c1c3ddac787a",
   "metadata": {},
   "outputs": [],
   "source": [
    "df.drop(columns=[\"total score\"], inplace=True)"
   ]
  },
  {
   "cell_type": "code",
   "execution_count": 5,
   "id": "7834fa80-233b-44de-a943-db5a21978f0b",
   "metadata": {},
   "outputs": [],
   "source": [
    "X = df.drop(columns=[\"average\"], axis=1)\n",
    "y = df[\"average\"]"
   ]
  },
  {
   "cell_type": "code",
   "execution_count": 6,
   "id": "f8d00bbc-6e87-43cf-96fc-65bcd49fd028",
   "metadata": {},
   "outputs": [
    {
     "data": {
      "text/plain": [
       "['math score', 'reading score', 'writing score']"
      ]
     },
     "execution_count": 6,
     "metadata": {},
     "output_type": "execute_result"
    }
   ],
   "source": [
    "numeric_features = [feature for feature in X.columns if X[feature].dtype != \"O\"]\n",
    "numeric_features"
   ]
  },
  {
   "cell_type": "code",
   "execution_count": 7,
   "id": "601d9bca-3ba0-47d9-896f-b08532da9c3b",
   "metadata": {},
   "outputs": [
    {
     "data": {
      "text/plain": [
       "['gender',\n",
       " 'race/ethnicity',\n",
       " 'parental level of education',\n",
       " 'lunch',\n",
       " 'test preparation course']"
      ]
     },
     "execution_count": 7,
     "metadata": {},
     "output_type": "execute_result"
    }
   ],
   "source": [
    "# ohe = one hot encoding\n",
    "# using categorical columns\n",
    "ohe_columns = [feature for feature in X.columns if X[feature].dtype == \"O\"]\n",
    "ohe_columns"
   ]
  },
  {
   "cell_type": "code",
   "execution_count": 8,
   "id": "088e1e94-0a10-4b19-b9e2-381370ba199a",
   "metadata": {},
   "outputs": [],
   "source": [
    "scale = ColumnTransformer(transformers=[ (\"scale\", StandardScaler(), slice(0,11))], remainder=\"passthrough\")\n",
    "\n",
    "tnf = ColumnTransformer(transformers=[(\"ohe\", OneHotEncoder(sparse_output=False, drop=\"first\"), [0,1,2,3,4])], remainder=\"passthrough\")\n"
   ]
  },
  {
   "cell_type": "markdown",
   "id": "9e4f4f81-dcd2-4703-9852-97db57565fd6",
   "metadata": {},
   "source": [
    "Using Linear Regression"
   ]
  },
  {
   "cell_type": "code",
   "execution_count": 9,
   "id": "22a239e3-25e3-4fb9-9e0e-f0d542e83944",
   "metadata": {},
   "outputs": [
    {
     "name": "stdout",
     "output_type": "stream",
     "text": [
      "R2 SCORE 1.0\n",
      "MAE 1.1404210908949608e-14\n"
     ]
    }
   ],
   "source": [
    "X_train, X_test, y_train, y_test = train_test_split(X, y, train_size=0.3, random_state=198)\n",
    "pipe = Pipeline([\n",
    "            (\"tnf\", tnf),\n",
    "            (\"scale\", scale),\n",
    "            (\"model\", LinearRegression(fit_intercept=True))    \n",
    "])\n",
    "pipe.fit(X_train, y_train)\n",
    "y_pred = pipe.predict(X_test)\n",
    "print(\"R2 SCORE\", r2_score(y_test, y_pred))\n",
    "print(\"MAE\", mean_absolute_error(y_test, y_pred))"
   ]
  },
  {
   "cell_type": "markdown",
   "id": "3b650702-0070-4777-8652-2013c5694a15",
   "metadata": {},
   "source": [
    "Using Ridge Regression"
   ]
  },
  {
   "cell_type": "code",
   "execution_count": 10,
   "id": "55e0035b-d82b-4fa6-b03d-ba8ec0356035",
   "metadata": {},
   "outputs": [
    {
     "name": "stdout",
     "output_type": "stream",
     "text": [
      "Model Performance for Training Set\n",
      "R2: 1.0000\n",
      "MAE : 0.0001\n",
      "Model Performance for Testing Set\n",
      "R2: 1.0000\n",
      "MAE: 0.0001\n"
     ]
    }
   ],
   "source": [
    "X_train, X_test, y_train, y_test = train_test_split(X, y, train_size=0.3, random_state=198)\n",
    "pipe = Pipeline( [ (\"tnf\", tnf), (\"scale\", scale), (\"model\", Ridge(fit_intercept=True)) ])\n",
    "\n",
    "pipe.fit(X_train, y_train)\n",
    "\n",
    "# Make Predictions\n",
    "y_train_pred = pipe.predict(X_train)\n",
    "y_test_pred = pipe.predict(X_test)\n",
    "\n",
    "# Training set performance\n",
    "model_train_r2score = r2_score(y_train, y_train_pred)\n",
    "model_train_mae = mean_absolute_error(y_train, y_train_pred)\n",
    "\n",
    "# Testing set Performance\n",
    "model_test_r2score = r2_score(y_test, y_test_pred)\n",
    "model_test_mae = mean_absolute_error(y_test, y_test_pred)\n",
    "\n",
    "print(\"Model Performance for Training Set\")\n",
    "print(f\"R2: {model_train_r2score:.4f}\")\n",
    "print(f\"MAE : {model_test_mae:.4f}\")\n",
    "\n",
    "print(\"Model Performance for Testing Set\")\n",
    "print(f\"R2: {model_test_r2score:.4f}\")\n",
    "print(f\"MAE: {model_test_mae:.4f}\")\n"
   ]
  },
  {
   "cell_type": "markdown",
   "id": "06a4daa5-0f0c-49c2-a172-07559db2f8e9",
   "metadata": {},
   "source": [
    "Using Lasso Regression"
   ]
  },
  {
   "cell_type": "code",
   "execution_count": 13,
   "id": "d1ee207f-0397-40ae-9ed1-40f024252afb",
   "metadata": {},
   "outputs": [
    {
     "name": "stdout",
     "output_type": "stream",
     "text": [
      "Model Performance of Training Dataset\n",
      "R2: 1.0000\n",
      "MAE: 0.0600\n",
      "Model Performance of Testing Dataset\n",
      "R2: 1.0000\n",
      "MAE: 0.0601\n"
     ]
    }
   ],
   "source": [
    "X_train, X_test, y_train, y_test = train_test_split(X,y, train_size=0.3, random_state=728)\n",
    "pipe = Pipeline( [ (\"tnf\", tnf),  (\"scale\", scale), (\"model\", Lasso(fit_intercept=True))])\n",
    "\n",
    "pipe.fit(X_train, y_train)\n",
    "\n",
    "y_train_pred = pipe.predict(X_train)\n",
    "y_test_pred = pipe.predict(X_test)\n",
    "\n",
    "# Training Set Performance\n",
    "model_train_r2score = r2_score(y_train, y_train_pred)\n",
    "model_train_mae = mean_absolute_error(y_train, y_train_pred)\n",
    "\n",
    "# Testing Set Performance\n",
    "model_test_r2score = r2_score(y_test, y_test_pred)\n",
    "model_test_mae = mean_absolute_error(y_test, y_test_pred)\n",
    "\n",
    "print(\"Model Performance of Training Dataset\")\n",
    "print(f\"R2: {model_train_r2score:.4f}\")\n",
    "print(f\"MAE: {model_train_mae:.4f}\")\n",
    "\n",
    "print(\"Model Performance of Testing Dataset\")\n",
    "print(f\"R2: {model_test_r2score:.4f}\")\n",
    "print(f\"MAE: {model_test_mae:.4f}\")"
   ]
  },
  {
   "cell_type": "markdown",
   "id": "80aa9f4a-b9ed-47a4-a166-cad3c63e05cf",
   "metadata": {},
   "source": [
    "Using Support Vector Regression"
   ]
  },
  {
   "cell_type": "code",
   "execution_count": 14,
   "id": "9e378188-a4d3-46ee-8a92-a7591377c8ae",
   "metadata": {},
   "outputs": [
    {
     "name": "stdout",
     "output_type": "stream",
     "text": [
      "Model Performance for Training Set\n",
      "R2: 1.0000\n",
      "MAE: 0.0363\n",
      "Model Performance for Testing Set\n",
      "R2: 1.0000\n",
      "MAE: 0.0345\n"
     ]
    }
   ],
   "source": [
    "X_train, X_test, y_train, y_test = train_test_split(X,y, train_size=0.3, random_state=480)\n",
    "\n",
    "pipe = Pipeline( [(\"tnf\", tnf), (\"scale\", scale),\n",
    "                  (\"model\", SVR(C=1, kernel=\"linear\", gamma=\"auto\", max_iter=5000))] )\n",
    "pipe.fit(X_train, y_train)\n",
    "\n",
    "y_train_pred = pipe.predict(X_train)\n",
    "y_test_pred = pipe.predict(X_test)\n",
    "\n",
    "model_train_r2score = r2_score(y_train, y_train_pred)\n",
    "model_train_mae = mean_absolute_error(y_train, y_train_pred)\n",
    "\n",
    "model_test_r2score = r2_score(y_test, y_test_pred)\n",
    "model_test_mae = mean_absolute_error(y_test, y_test_pred)\n",
    "\n",
    "print(\"Model Performance for Training Set\")\n",
    "print(f\"R2: {model_train_r2score:.4f}\")\n",
    "print(f\"MAE: {model_train_mae:.4f}\")\n",
    "\n",
    "print(\"Model Performance for Testing Set\")\n",
    "print(f\"R2: {model_test_r2score:.4f}\")\n",
    "print(f\"MAE: {model_test_mae:.4f}\")\n"
   ]
  },
  {
   "cell_type": "markdown",
   "id": "d9d577fd-3931-4dac-8b67-22cb3e2e001c",
   "metadata": {},
   "source": [
    "Using KNeighborsRegressor"
   ]
  },
  {
   "cell_type": "code",
   "execution_count": 19,
   "id": "559bcd4e-90f6-4165-8dd7-5298884e3fc2",
   "metadata": {},
   "outputs": [
    {
     "name": "stdout",
     "output_type": "stream",
     "text": [
      "Model Performance for Training Set\n",
      "R2: 0.9972\n",
      "MAE: 0.5027\n",
      "Model Performance for Testing Set\n",
      "R2: 0.9861\n",
      "MAE: 0.7432\n"
     ]
    }
   ],
   "source": [
    "X_train,X_test, y_train, y_test = train_test_split(X, y, train_size=0.3, random_state=458)\n",
    "\n",
    "pipe = Pipeline( [  (\"tnf\", tnf), (\"scale\", scale), (\"model\", KNeighborsRegressor())]) \n",
    "\n",
    "pipe.fit(X_train, y_train)\n",
    "\n",
    "y_train_pred = pipe.predict(X_train)\n",
    "y_test_pred = pipe.predict(X_test)\n",
    "\n",
    "# Training Set Performance\n",
    "model_train_r2score = r2_score(y_train, y_train_pred)\n",
    "model_train_mae = mean_absolute_error(y_train, y_train_pred)\n",
    "\n",
    "# Testing Set Performance\n",
    "model_test_r2score = r2_score(y_test, y_test_pred)\n",
    "model_test_mae = mean_absolute_error(y_test, y_test_pred)\n",
    "\n",
    "print(\"Model Performance for Training Set\")\n",
    "print(f\"R2: {model_train_r2score:.4f}\")\n",
    "print(f\"MAE: {model_train_mae:.4f}\")\n",
    "\n",
    "\n",
    "print(\"Model Performance for Testing Set\")\n",
    "print(f\"R2: {model_test_r2score:.4f}\")\n",
    "print(f\"MAE: {model_test_mae:.4f}\")"
   ]
  },
  {
   "cell_type": "markdown",
   "id": "0fbf1ff6-62ec-455f-865f-730ed59e3c38",
   "metadata": {},
   "source": [
    "Using DecisionTreeRegressor"
   ]
  },
  {
   "cell_type": "code",
   "execution_count": 22,
   "id": "83634680-8f32-4eab-ad55-bcc1738bac05",
   "metadata": {},
   "outputs": [
    {
     "name": "stdout",
     "output_type": "stream",
     "text": [
      "Model Performance for Training Set\n",
      "R2: 1.0000\n",
      "MAE: 0.0000\n",
      "Model Performance for Testing Set\n",
      "R2: 0.9774\n",
      "MAE: 1.5686\n"
     ]
    }
   ],
   "source": [
    "X_train,X_test, y_train, y_test = train_test_split(X, y, train_size=0.3, random_state=657)\n",
    "\n",
    "pipe = Pipeline( [  (\"tnf\", tnf), (\"scale\", scale), (\"model\", DecisionTreeRegressor())]) \n",
    "\n",
    "pipe.fit(X_train, y_train)\n",
    "\n",
    "y_train_pred = pipe.predict(X_train)\n",
    "y_test_pred = pipe.predict(X_test)\n",
    "\n",
    "# Training Set Performance\n",
    "model_train_r2score = r2_score(y_train, y_train_pred)\n",
    "model_train_mae = mean_absolute_error(y_train, y_train_pred)\n",
    "\n",
    "# Testing Set Performance\n",
    "model_test_r2score = r2_score(y_test, y_test_pred)\n",
    "model_test_mae = mean_absolute_error(y_test, y_test_pred)\n",
    "\n",
    "print(\"Model Performance for Training Set\")\n",
    "print(f\"R2: {model_train_r2score:.4f}\")\n",
    "print(f\"MAE: {model_train_mae:.4f}\")\n",
    "\n",
    "\n",
    "print(\"Model Performance for Testing Set\")\n",
    "print(f\"R2: {model_test_r2score:.4f}\")\n",
    "print(f\"MAE: {model_test_mae:.4f}\")"
   ]
  },
  {
   "cell_type": "markdown",
   "id": "6844fa92-8c7d-4995-ad6a-b9b0369505c2",
   "metadata": {},
   "source": [
    "Using RandomForestRegressor"
   ]
  },
  {
   "cell_type": "code",
   "execution_count": 21,
   "id": "735b84df-0fba-480a-9d8f-ad76339802ee",
   "metadata": {},
   "outputs": [
    {
     "name": "stdout",
     "output_type": "stream",
     "text": [
      "Model Performance for Training Set\n",
      "R2: 0.9987\n",
      "MAE: 0.3364\n",
      "Model Performance for Testing Set\n",
      "R2: 0.9835\n",
      "MAE: 1.0271\n"
     ]
    }
   ],
   "source": [
    "X_train,X_test, y_train, y_test = train_test_split(X, y, train_size=0.3, random_state=256)\n",
    "\n",
    "pipe = Pipeline( [  (\"tnf\", tnf), (\"scale\", scale), (\"model\", RandomForestRegressor())]) \n",
    "\n",
    "pipe.fit(X_train, y_train)\n",
    "\n",
    "y_train_pred = pipe.predict(X_train)\n",
    "y_test_pred = pipe.predict(X_test)\n",
    "\n",
    "# Training Set Performance\n",
    "model_train_r2score = r2_score(y_train, y_train_pred)\n",
    "model_train_mae = mean_absolute_error(y_train, y_train_pred)\n",
    "\n",
    "# Testing Set Performance\n",
    "model_test_r2score = r2_score(y_test, y_test_pred)\n",
    "model_test_mae = mean_absolute_error(y_test, y_test_pred)\n",
    "\n",
    "print(\"Model Performance for Training Set\")\n",
    "print(f\"R2: {model_train_r2score:.4f}\")\n",
    "print(f\"MAE: {model_train_mae:.4f}\")\n",
    "\n",
    "\n",
    "print(\"Model Performance for Testing Set\")\n",
    "print(f\"R2: {model_test_r2score:.4f}\")\n",
    "print(f\"MAE: {model_test_mae:.4f}\")"
   ]
  },
  {
   "cell_type": "code",
   "execution_count": 26,
   "id": "49eb550c-7e52-4599-8ace-fbf9052a8bcd",
   "metadata": {},
   "outputs": [],
   "source": [
    "import pickle\n",
    "pickle.dump(pipe, open(\"models/model.pkl\", \"wb\"))"
   ]
  },
  {
   "cell_type": "code",
   "execution_count": null,
   "id": "b717cbb5-1bbf-4b8b-8774-cc9e3d3dd92e",
   "metadata": {},
   "outputs": [],
   "source": []
  }
 ],
 "metadata": {
  "kernelspec": {
   "display_name": "Python 3 (ipykernel)",
   "language": "python",
   "name": "python3"
  },
  "language_info": {
   "codemirror_mode": {
    "name": "ipython",
    "version": 3
   },
   "file_extension": ".py",
   "mimetype": "text/x-python",
   "name": "python",
   "nbconvert_exporter": "python",
   "pygments_lexer": "ipython3",
   "version": "3.12.1"
  }
 },
 "nbformat": 4,
 "nbformat_minor": 5
}
